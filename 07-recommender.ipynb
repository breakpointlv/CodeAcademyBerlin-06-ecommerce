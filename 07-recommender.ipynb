{
 "cells": [
  {
   "cell_type": "code",
   "execution_count": 123,
   "metadata": {
    "collapsed": true,
    "ExecuteTime": {
     "end_time": "2023-05-19T13:49:17.468151827Z",
     "start_time": "2023-05-19T13:49:17.453768124Z"
    }
   },
   "outputs": [],
   "source": [
    "import pandas as pd\n",
    "import numpy as np"
   ]
  },
  {
   "cell_type": "code",
   "execution_count": 124,
   "outputs": [],
   "source": [
    "df = pd.read_csv(\"db/global-superstore-orders.csv\")"
   ],
   "metadata": {
    "collapsed": false,
    "ExecuteTime": {
     "end_time": "2023-05-19T13:49:17.598931714Z",
     "start_time": "2023-05-19T13:49:17.463446734Z"
    }
   }
  },
  {
   "cell_type": "code",
   "execution_count": 125,
   "outputs": [
    {
     "data": {
      "text/plain": "Product ID   FUR-ADV-10000002  FUR-ADV-10000108  FUR-ADV-10000183  \\\nCustomer ID                                                         \nAA-10315                  NaN               NaN               NaN   \nAA-10375                  NaN               NaN               NaN   \nAA-10480                  NaN               NaN               NaN   \nAA-10645                  NaN               NaN               NaN   \nAA-315                    NaN               NaN               NaN   \n...                       ...               ...               ...   \nYS-21880                  NaN               NaN               NaN   \nZC-11910                  NaN               NaN               NaN   \nZC-21910                  NaN               NaN               NaN   \nZD-11925                  NaN               NaN               NaN   \nZD-21925                  NaN               NaN               NaN   \n\nProduct ID   FUR-ADV-10000188  FUR-ADV-10000190  FUR-ADV-10000571  \\\nCustomer ID                                                         \nAA-10315                  NaN               NaN               NaN   \nAA-10375                  NaN               NaN               NaN   \nAA-10480                  NaN               NaN               NaN   \nAA-10645                  NaN               NaN               NaN   \nAA-315                    NaN               NaN               NaN   \n...                       ...               ...               ...   \nYS-21880                  NaN               NaN               NaN   \nZC-11910                  NaN               NaN               NaN   \nZC-21910                  NaN               NaN               NaN   \nZD-11925                  NaN               NaN               NaN   \nZD-21925                  NaN               NaN               NaN   \n\nProduct ID   FUR-ADV-10000600  FUR-ADV-10000847  FUR-ADV-10001283  \\\nCustomer ID                                                         \nAA-10315                  NaN               NaN               NaN   \nAA-10375                  NaN               NaN               NaN   \nAA-10480                  NaN               NaN               NaN   \nAA-10645                  NaN               NaN               NaN   \nAA-315                    NaN               NaN               NaN   \n...                       ...               ...               ...   \nYS-21880                  NaN               NaN               NaN   \nZC-11910                  NaN               NaN               NaN   \nZC-21910                  NaN               NaN               NaN   \nZD-11925                  NaN               NaN               NaN   \nZD-21925                  NaN               NaN               NaN   \n\nProduct ID   FUR-ADV-10001440  ...  TEC-STA-10003330  TEC-STA-10003386  \\\nCustomer ID                    ...                                       \nAA-10315                  NaN  ...               NaN               NaN   \nAA-10375                  NaN  ...               NaN               NaN   \nAA-10480                  NaN  ...               NaN               NaN   \nAA-10645                  NaN  ...               NaN               NaN   \nAA-315                    NaN  ...               NaN               NaN   \n...                       ...  ...               ...               ...   \nYS-21880                  NaN  ...               NaN               NaN   \nZC-11910                  NaN  ...               NaN               NaN   \nZC-21910                  NaN  ...               NaN               NaN   \nZD-11925                  NaN  ...               NaN               NaN   \nZD-21925                  NaN  ...               NaN               NaN   \n\nProduct ID   TEC-STA-10003447  TEC-STA-10003550  TEC-STA-10003925  \\\nCustomer ID                                                         \nAA-10315                  NaN               NaN               NaN   \nAA-10375                  NaN               NaN               NaN   \nAA-10480                  NaN               NaN               NaN   \nAA-10645                  NaN               NaN               NaN   \nAA-315                    NaN               NaN               NaN   \n...                       ...               ...               ...   \nYS-21880                  NaN               NaN               NaN   \nZC-11910                  NaN               NaN               NaN   \nZC-21910                  NaN               NaN               NaN   \nZD-11925                  NaN               NaN               NaN   \nZD-21925                  NaN               NaN               NaN   \n\nProduct ID   TEC-STA-10004181  TEC-STA-10004536  TEC-STA-10004542  \\\nCustomer ID                                                         \nAA-10315                  NaN               NaN               NaN   \nAA-10375                  NaN               NaN               NaN   \nAA-10480                  NaN               NaN               NaN   \nAA-10645                  NaN               NaN               NaN   \nAA-315                    NaN               NaN               NaN   \n...                       ...               ...               ...   \nYS-21880                  NaN               NaN               NaN   \nZC-11910                  NaN               NaN               NaN   \nZC-21910                  NaN               NaN               NaN   \nZD-11925                  NaN               NaN               NaN   \nZD-21925                  NaN               NaN               NaN   \n\nProduct ID   TEC-STA-10004834  TEC-STA-10004927  \nCustomer ID                                      \nAA-10315                  NaN               NaN  \nAA-10375                  NaN               NaN  \nAA-10480                  NaN               NaN  \nAA-10645                  NaN               NaN  \nAA-315                    NaN               NaN  \n...                       ...               ...  \nYS-21880                  NaN               NaN  \nZC-11910                  NaN               NaN  \nZC-21910                  NaN               NaN  \nZD-11925                  NaN               NaN  \nZD-21925                  NaN               NaN  \n\n[1590 rows x 10292 columns]",
      "text/html": "<div>\n<style scoped>\n    .dataframe tbody tr th:only-of-type {\n        vertical-align: middle;\n    }\n\n    .dataframe tbody tr th {\n        vertical-align: top;\n    }\n\n    .dataframe thead th {\n        text-align: right;\n    }\n</style>\n<table border=\"1\" class=\"dataframe\">\n  <thead>\n    <tr style=\"text-align: right;\">\n      <th>Product ID</th>\n      <th>FUR-ADV-10000002</th>\n      <th>FUR-ADV-10000108</th>\n      <th>FUR-ADV-10000183</th>\n      <th>FUR-ADV-10000188</th>\n      <th>FUR-ADV-10000190</th>\n      <th>FUR-ADV-10000571</th>\n      <th>FUR-ADV-10000600</th>\n      <th>FUR-ADV-10000847</th>\n      <th>FUR-ADV-10001283</th>\n      <th>FUR-ADV-10001440</th>\n      <th>...</th>\n      <th>TEC-STA-10003330</th>\n      <th>TEC-STA-10003386</th>\n      <th>TEC-STA-10003447</th>\n      <th>TEC-STA-10003550</th>\n      <th>TEC-STA-10003925</th>\n      <th>TEC-STA-10004181</th>\n      <th>TEC-STA-10004536</th>\n      <th>TEC-STA-10004542</th>\n      <th>TEC-STA-10004834</th>\n      <th>TEC-STA-10004927</th>\n    </tr>\n    <tr>\n      <th>Customer ID</th>\n      <th></th>\n      <th></th>\n      <th></th>\n      <th></th>\n      <th></th>\n      <th></th>\n      <th></th>\n      <th></th>\n      <th></th>\n      <th></th>\n      <th></th>\n      <th></th>\n      <th></th>\n      <th></th>\n      <th></th>\n      <th></th>\n      <th></th>\n      <th></th>\n      <th></th>\n      <th></th>\n      <th></th>\n    </tr>\n  </thead>\n  <tbody>\n    <tr>\n      <th>AA-10315</th>\n      <td>NaN</td>\n      <td>NaN</td>\n      <td>NaN</td>\n      <td>NaN</td>\n      <td>NaN</td>\n      <td>NaN</td>\n      <td>NaN</td>\n      <td>NaN</td>\n      <td>NaN</td>\n      <td>NaN</td>\n      <td>...</td>\n      <td>NaN</td>\n      <td>NaN</td>\n      <td>NaN</td>\n      <td>NaN</td>\n      <td>NaN</td>\n      <td>NaN</td>\n      <td>NaN</td>\n      <td>NaN</td>\n      <td>NaN</td>\n      <td>NaN</td>\n    </tr>\n    <tr>\n      <th>AA-10375</th>\n      <td>NaN</td>\n      <td>NaN</td>\n      <td>NaN</td>\n      <td>NaN</td>\n      <td>NaN</td>\n      <td>NaN</td>\n      <td>NaN</td>\n      <td>NaN</td>\n      <td>NaN</td>\n      <td>NaN</td>\n      <td>...</td>\n      <td>NaN</td>\n      <td>NaN</td>\n      <td>NaN</td>\n      <td>NaN</td>\n      <td>NaN</td>\n      <td>NaN</td>\n      <td>NaN</td>\n      <td>NaN</td>\n      <td>NaN</td>\n      <td>NaN</td>\n    </tr>\n    <tr>\n      <th>AA-10480</th>\n      <td>NaN</td>\n      <td>NaN</td>\n      <td>NaN</td>\n      <td>NaN</td>\n      <td>NaN</td>\n      <td>NaN</td>\n      <td>NaN</td>\n      <td>NaN</td>\n      <td>NaN</td>\n      <td>NaN</td>\n      <td>...</td>\n      <td>NaN</td>\n      <td>NaN</td>\n      <td>NaN</td>\n      <td>NaN</td>\n      <td>NaN</td>\n      <td>NaN</td>\n      <td>NaN</td>\n      <td>NaN</td>\n      <td>NaN</td>\n      <td>NaN</td>\n    </tr>\n    <tr>\n      <th>AA-10645</th>\n      <td>NaN</td>\n      <td>NaN</td>\n      <td>NaN</td>\n      <td>NaN</td>\n      <td>NaN</td>\n      <td>NaN</td>\n      <td>NaN</td>\n      <td>NaN</td>\n      <td>NaN</td>\n      <td>NaN</td>\n      <td>...</td>\n      <td>NaN</td>\n      <td>NaN</td>\n      <td>NaN</td>\n      <td>NaN</td>\n      <td>NaN</td>\n      <td>NaN</td>\n      <td>NaN</td>\n      <td>NaN</td>\n      <td>NaN</td>\n      <td>NaN</td>\n    </tr>\n    <tr>\n      <th>AA-315</th>\n      <td>NaN</td>\n      <td>NaN</td>\n      <td>NaN</td>\n      <td>NaN</td>\n      <td>NaN</td>\n      <td>NaN</td>\n      <td>NaN</td>\n      <td>NaN</td>\n      <td>NaN</td>\n      <td>NaN</td>\n      <td>...</td>\n      <td>NaN</td>\n      <td>NaN</td>\n      <td>NaN</td>\n      <td>NaN</td>\n      <td>NaN</td>\n      <td>NaN</td>\n      <td>NaN</td>\n      <td>NaN</td>\n      <td>NaN</td>\n      <td>NaN</td>\n    </tr>\n    <tr>\n      <th>...</th>\n      <td>...</td>\n      <td>...</td>\n      <td>...</td>\n      <td>...</td>\n      <td>...</td>\n      <td>...</td>\n      <td>...</td>\n      <td>...</td>\n      <td>...</td>\n      <td>...</td>\n      <td>...</td>\n      <td>...</td>\n      <td>...</td>\n      <td>...</td>\n      <td>...</td>\n      <td>...</td>\n      <td>...</td>\n      <td>...</td>\n      <td>...</td>\n      <td>...</td>\n      <td>...</td>\n    </tr>\n    <tr>\n      <th>YS-21880</th>\n      <td>NaN</td>\n      <td>NaN</td>\n      <td>NaN</td>\n      <td>NaN</td>\n      <td>NaN</td>\n      <td>NaN</td>\n      <td>NaN</td>\n      <td>NaN</td>\n      <td>NaN</td>\n      <td>NaN</td>\n      <td>...</td>\n      <td>NaN</td>\n      <td>NaN</td>\n      <td>NaN</td>\n      <td>NaN</td>\n      <td>NaN</td>\n      <td>NaN</td>\n      <td>NaN</td>\n      <td>NaN</td>\n      <td>NaN</td>\n      <td>NaN</td>\n    </tr>\n    <tr>\n      <th>ZC-11910</th>\n      <td>NaN</td>\n      <td>NaN</td>\n      <td>NaN</td>\n      <td>NaN</td>\n      <td>NaN</td>\n      <td>NaN</td>\n      <td>NaN</td>\n      <td>NaN</td>\n      <td>NaN</td>\n      <td>NaN</td>\n      <td>...</td>\n      <td>NaN</td>\n      <td>NaN</td>\n      <td>NaN</td>\n      <td>NaN</td>\n      <td>NaN</td>\n      <td>NaN</td>\n      <td>NaN</td>\n      <td>NaN</td>\n      <td>NaN</td>\n      <td>NaN</td>\n    </tr>\n    <tr>\n      <th>ZC-21910</th>\n      <td>NaN</td>\n      <td>NaN</td>\n      <td>NaN</td>\n      <td>NaN</td>\n      <td>NaN</td>\n      <td>NaN</td>\n      <td>NaN</td>\n      <td>NaN</td>\n      <td>NaN</td>\n      <td>NaN</td>\n      <td>...</td>\n      <td>NaN</td>\n      <td>NaN</td>\n      <td>NaN</td>\n      <td>NaN</td>\n      <td>NaN</td>\n      <td>NaN</td>\n      <td>NaN</td>\n      <td>NaN</td>\n      <td>NaN</td>\n      <td>NaN</td>\n    </tr>\n    <tr>\n      <th>ZD-11925</th>\n      <td>NaN</td>\n      <td>NaN</td>\n      <td>NaN</td>\n      <td>NaN</td>\n      <td>NaN</td>\n      <td>NaN</td>\n      <td>NaN</td>\n      <td>NaN</td>\n      <td>NaN</td>\n      <td>NaN</td>\n      <td>...</td>\n      <td>NaN</td>\n      <td>NaN</td>\n      <td>NaN</td>\n      <td>NaN</td>\n      <td>NaN</td>\n      <td>NaN</td>\n      <td>NaN</td>\n      <td>NaN</td>\n      <td>NaN</td>\n      <td>NaN</td>\n    </tr>\n    <tr>\n      <th>ZD-21925</th>\n      <td>NaN</td>\n      <td>NaN</td>\n      <td>NaN</td>\n      <td>NaN</td>\n      <td>NaN</td>\n      <td>NaN</td>\n      <td>NaN</td>\n      <td>NaN</td>\n      <td>NaN</td>\n      <td>NaN</td>\n      <td>...</td>\n      <td>NaN</td>\n      <td>NaN</td>\n      <td>NaN</td>\n      <td>NaN</td>\n      <td>NaN</td>\n      <td>NaN</td>\n      <td>NaN</td>\n      <td>NaN</td>\n      <td>NaN</td>\n      <td>NaN</td>\n    </tr>\n  </tbody>\n</table>\n<p>1590 rows × 10292 columns</p>\n</div>"
     },
     "execution_count": 125,
     "metadata": {},
     "output_type": "execute_result"
    }
   ],
   "source": [
    "# cross tab of customers and products with counts\n",
    "pd.crosstab(df['Customer ID'], df['Product ID'], df[\"Quantity\"], aggfunc=pd.Series.nunique)"
   ],
   "metadata": {
    "collapsed": false,
    "ExecuteTime": {
     "end_time": "2023-05-19T13:49:20.073401055Z",
     "start_time": "2023-05-19T13:49:17.638992396Z"
    }
   }
  },
  {
   "cell_type": "code",
   "execution_count": 126,
   "outputs": [
    {
     "data": {
      "text/plain": "1"
     },
     "metadata": {},
     "output_type": "display_data"
    }
   ],
   "source": [
    "from fastai.collab import CollabDataLoaders\n",
    "\n",
    "# group by unique Customer ID and unique Product ID\n",
    "\n",
    "\n",
    "\n",
    "customer_purchases = df.groupby(['Customer ID', 'Product Name']).agg({'Quantity': 'sum'}).reset_index()\n",
    "customer_purchases.rename(columns={\n",
    "    'Quantity': 'rating',\n",
    "    'Customer ID': 'user',\n",
    "    'Product Name': 'item',\n",
    "}, inplace=True)\n",
    "\n",
    "customer_purchases['rating'] = 1\n",
    "\n",
    "display(customer_purchases['rating'].max())"
   ],
   "metadata": {
    "collapsed": false,
    "ExecuteTime": {
     "end_time": "2023-05-19T13:49:20.095767076Z",
     "start_time": "2023-05-19T13:49:20.075035308Z"
    }
   }
  },
  {
   "cell_type": "code",
   "execution_count": 127,
   "outputs": [
    {
     "data": {
      "text/plain": "       user                                                        item  \\\n0  AA-10315                           Acco Banker's Clasps, 5 3/4\"-Long   \n1  AA-10315                           Advantus Stacking Tray, Erganomic   \n2  AA-10315                         Apple Speaker Phone, with Caller ID   \n3  AA-10315  Avery Binding System Hidden Tab Executive Style Index Sets   \n4  AA-10315                                    Avery Index Tab, Economy   \n\n   rating  \n0       1  \n1       1  \n2       1  \n3       1  \n4       1  ",
      "text/html": "<div>\n<style scoped>\n    .dataframe tbody tr th:only-of-type {\n        vertical-align: middle;\n    }\n\n    .dataframe tbody tr th {\n        vertical-align: top;\n    }\n\n    .dataframe thead th {\n        text-align: right;\n    }\n</style>\n<table border=\"1\" class=\"dataframe\">\n  <thead>\n    <tr style=\"text-align: right;\">\n      <th></th>\n      <th>user</th>\n      <th>item</th>\n      <th>rating</th>\n    </tr>\n  </thead>\n  <tbody>\n    <tr>\n      <th>0</th>\n      <td>AA-10315</td>\n      <td>Acco Banker's Clasps, 5 3/4\"-Long</td>\n      <td>1</td>\n    </tr>\n    <tr>\n      <th>1</th>\n      <td>AA-10315</td>\n      <td>Advantus Stacking Tray, Erganomic</td>\n      <td>1</td>\n    </tr>\n    <tr>\n      <th>2</th>\n      <td>AA-10315</td>\n      <td>Apple Speaker Phone, with Caller ID</td>\n      <td>1</td>\n    </tr>\n    <tr>\n      <th>3</th>\n      <td>AA-10315</td>\n      <td>Avery Binding System Hidden Tab Executive Style Index Sets</td>\n      <td>1</td>\n    </tr>\n    <tr>\n      <th>4</th>\n      <td>AA-10315</td>\n      <td>Avery Index Tab, Economy</td>\n      <td>1</td>\n    </tr>\n  </tbody>\n</table>\n</div>"
     },
     "execution_count": 127,
     "metadata": {},
     "output_type": "execute_result"
    }
   ],
   "source": [
    "customer_purchases.head()"
   ],
   "metadata": {
    "collapsed": false,
    "ExecuteTime": {
     "end_time": "2023-05-19T13:49:20.154337212Z",
     "start_time": "2023-05-19T13:49:20.098081967Z"
    }
   }
  },
  {
   "cell_type": "code",
   "execution_count": 128,
   "outputs": [
    {
     "data": {
      "text/plain": "<IPython.core.display.HTML object>",
      "text/html": "<table border=\"1\" class=\"dataframe\">\n  <thead>\n    <tr style=\"text-align: right;\">\n      <th></th>\n      <th>user</th>\n      <th>item</th>\n      <th>rating</th>\n    </tr>\n  </thead>\n  <tbody>\n    <tr>\n      <th>0</th>\n      <td>RW-19540</td>\n      <td>Kleencut Shears, Easy Grip</td>\n      <td>1</td>\n    </tr>\n    <tr>\n      <th>1</th>\n      <td>ON-18715</td>\n      <td>DAX Metal Frame, Desktop, Stepped-Edge</td>\n      <td>1</td>\n    </tr>\n    <tr>\n      <th>2</th>\n      <td>CC-12145</td>\n      <td>Wilson Jones Custom Binder Spines &amp; Labels</td>\n      <td>1</td>\n    </tr>\n    <tr>\n      <th>3</th>\n      <td>BP-1095</td>\n      <td>Hewlett Wireless Fax, High-Speed</td>\n      <td>1</td>\n    </tr>\n    <tr>\n      <th>4</th>\n      <td>SC-10680</td>\n      <td>Boston Canvas, Water Color</td>\n      <td>1</td>\n    </tr>\n    <tr>\n      <th>5</th>\n      <td>MV-18190</td>\n      <td>Xerox 1914</td>\n      <td>1</td>\n    </tr>\n    <tr>\n      <th>6</th>\n      <td>DL-13330</td>\n      <td>Ikea Corner Shelving, Mobile</td>\n      <td>1</td>\n    </tr>\n    <tr>\n      <th>7</th>\n      <td>EB-13930</td>\n      <td>Flexible Leather- Look Classic Collection Ring Binder</td>\n      <td>1</td>\n    </tr>\n    <tr>\n      <th>8</th>\n      <td>RC-19960</td>\n      <td>Logitech Memory Card, Programmable</td>\n      <td>1</td>\n    </tr>\n    <tr>\n      <th>9</th>\n      <td>DH-13675</td>\n      <td>SanDisk Flash Drive, Erganomic</td>\n      <td>1</td>\n    </tr>\n  </tbody>\n</table>"
     },
     "metadata": {},
     "output_type": "display_data"
    }
   ],
   "source": [
    "# this function requires a user, item, and rating column\n",
    "dls = CollabDataLoaders.from_df(customer_purchases, bs=64)\n",
    "dls.show_batch()"
   ],
   "metadata": {
    "collapsed": false,
    "ExecuteTime": {
     "end_time": "2023-05-19T13:49:20.286582300Z",
     "start_time": "2023-05-19T13:49:20.101992517Z"
    }
   }
  },
  {
   "cell_type": "code",
   "execution_count": 129,
   "outputs": [
    {
     "data": {
      "text/plain": "1591"
     },
     "metadata": {},
     "output_type": "display_data"
    },
    {
     "data": {
      "text/plain": "3789"
     },
     "metadata": {},
     "output_type": "display_data"
    }
   ],
   "source": [
    "import torch\n",
    "\n",
    "n_users = len(dls.classes['user'])\n",
    "n_items = len(dls.classes['item'])\n",
    "\n",
    "# create 5 random factors for each user and movie\n",
    "# factors are the latent features that we are trying to learn\n",
    "n_factors = 5\n",
    "user_factors = torch.randn(n_users, n_factors)\n",
    "movie_factors = torch.randn(n_items, n_factors)\n",
    "\n",
    "display(n_users)\n",
    "display(n_items)"
   ],
   "metadata": {
    "collapsed": false,
    "ExecuteTime": {
     "end_time": "2023-05-19T13:49:20.315083008Z",
     "start_time": "2023-05-19T13:49:20.146570485Z"
    }
   }
  },
  {
   "cell_type": "code",
   "execution_count": 130,
   "outputs": [
    {
     "data": {
      "text/plain": "<IPython.core.display.HTML object>",
      "text/html": "\n<style>\n    /* Turns off some styling */\n    progress {\n        /* gets rid of default border in Firefox and Opera. */\n        border: none;\n        /* Needs to be in here for Safari polyfill so background images work as expected. */\n        background-size: auto;\n    }\n    progress:not([value]), progress:not([value])::-webkit-progress-bar {\n        background: repeating-linear-gradient(45deg, #7e7e7e, #7e7e7e 10px, #5c5c5c 10px, #5c5c5c 20px);\n    }\n    .progress-bar-interrupted, .progress-bar-interrupted::-webkit-progress-bar {\n        background: #F44336;\n    }\n</style>\n"
     },
     "metadata": {},
     "output_type": "display_data"
    },
    {
     "data": {
      "text/plain": "<IPython.core.display.HTML object>",
      "text/html": "\n    <div>\n      <progress value='0' class='' max='5' style='width:300px; height:20px; vertical-align: middle;'></progress>\n      \n    </div>\n    \n"
     },
     "metadata": {},
     "output_type": "display_data"
    }
   ],
   "source": [
    "from fastai.collab import collab_learner\n",
    "\n",
    " # y_range is the range of the ratings, our maximum is 28\n",
    "learn = collab_learner(dls, n_factors=50, y_range=(0,1.1))\n",
    "learn.fit_one_cycle(5, 5e-3, wd=0.1)"
   ],
   "metadata": {
    "collapsed": false,
    "ExecuteTime": {
     "end_time": "2023-05-19T13:49:33.775615428Z",
     "start_time": "2023-05-19T13:49:20.187093056Z"
    }
   }
  },
  {
   "cell_type": "code",
   "execution_count": 131,
   "outputs": [
    {
     "data": {
      "text/plain": "<Figure size 640x480 with 1 Axes>",
      "image/png": "[encoded data removed]"
     },
     "metadata": {},
     "output_type": "display_data"
    }
   ],
   "source": [
    "learn.recorder.plot_loss()"
   ],
   "metadata": {
    "collapsed": false,
    "ExecuteTime": {
     "end_time": "2023-05-19T13:49:33.986997744Z",
     "start_time": "2023-05-19T13:49:33.783760596Z"
    }
   }
  },
  {
   "cell_type": "markdown",
   "source": [
    "# Making Recommendations"
   ],
   "metadata": {
    "collapsed": false
   }
  },
  {
   "cell_type": "code",
   "execution_count": 132,
   "outputs": [
    {
     "name": "stdout",
     "output_type": "stream",
     "text": [
      "test_user: DB-13360\n"
     ]
    },
    {
     "data": {
      "text/plain": "                                                                                 Product Name  \\\n5                                                         Cameo Clasp Envelope, Security-Tint   \n39                           Universal Premium White Copier/Laser Paper (20Lb. and 87 Bright)   \n32                                                             SanDisk Note Cards, Multicolor   \n36                                                                  Stockwell Clamps, 12 Pack   \n31                                                      SAFCO Steel Folding Chair, Set of Two   \n33                                                      Sanford Pencil Sharpener, Fluorescent   \n41                                                           Wilson Jones Index Tab, Recycled   \n6                                                            Cardinal EasyOpen D-Ring Binders   \n19                                                                      Hon Bag Chairs, Black   \n12                                                                       Eldon Shelving, Blue   \n25                                                        Motorola Office Telephone, Cordless   \n15                                                             Enermax Memo Slips, Multicolor   \n4                                                Avery Round Labels, Laser Printer Compatible   \n1                                                             Advantus Thumb Tacks, Bulk Pack   \n28                                      Recycled Steel Personal File for Hanging File Folders   \n0                                                                Advantus Light Bulb, Durable   \n34                                                                 Stanley Canvas, Easy-Erase   \n24                                                            Logitech Keyboard, Programmable   \n35                                                                         Stanley Pens, Blue   \n2                                                          Ames Clasp Envelope, Security-Tint   \n37                                                               Tenex Shelving, Single Width   \n38                                                             Tenex Stacking Tray, Erganomic   \n27  Office Star - Mid Back Dual function Ergonomic High Back Chair with 2-Way Adjustable Arms   \n42                                                                                 Xerox 1888   \n3                                                              Apple Signal Booster, Cordless   \n8                                                                  Cuisinart Microwave, White   \n16                                                              Fellowes Shelving, Wire Frame   \n22                                                    Kraft Business Envelopes, Security-Tint   \n9                                                                 Dania Corner Shelving, Pine   \n21                                                                  KitchenAid Toaster, White   \n10                                                      Dania Library with Doors, Traditional   \n40                                                         Wilson Jones 3-Hole Punch, Durable   \n7                                                                   Cisco Speaker Phone, VoIP   \n29                                                                 Rogers Lockers, Wire Frame   \n17                                                                 Fiskars Scissors, Serrated   \n11                                                                  Eldon Folders, Wire Frame   \n23                                                   Logitech G700s Rechargeable Gaming Mouse   \n13                                                                     Elite Ruler, Easy Grip   \n30                                                                Rogers Shelving, Wire Frame   \n18                                                                   HP Fax and Copier, Color   \n20                                                         Jiffy Business Envelopes, Recycled   \n26                                                                       OIC Push Pins, Metal   \n14                                                                     Elite Shears, Serrated   \n\n   Sub-Category  Quantity  \n5     Envelopes        13  \n39        Paper         9  \n32        Paper         9  \n36    Fasteners         8  \n31       Chairs         8  \n33          Art         8  \n41      Binders         7  \n6       Binders         7  \n19       Chairs         7  \n12      Storage         7  \n25       Phones         6  \n15        Paper         6  \n4        Labels         6  \n1     Fasteners         5  \n28      Storage         5  \n0   Furnishings         5  \n34          Art         5  \n24  Accessories         5  \n35          Art         5  \n2     Envelopes         4  \n37      Storage         3  \n38  Furnishings         3  \n27       Chairs         3  \n42        Paper         3  \n3        Phones         3  \n8    Appliances         3  \n16      Storage         3  \n22    Envelopes         3  \n9     Bookcases         3  \n21   Appliances         2  \n10    Bookcases         2  \n40      Binders         2  \n7        Phones         2  \n29      Storage         2  \n17     Supplies         2  \n11      Storage         2  \n23  Accessories         1  \n13     Supplies         1  \n30      Storage         1  \n18      Copiers         1  \n20    Envelopes         1  \n26    Fasteners         1  \n14     Supplies         1  ",
      "text/html": "<div>\n<style scoped>\n    .dataframe tbody tr th:only-of-type {\n        vertical-align: middle;\n    }\n\n    .dataframe tbody tr th {\n        vertical-align: top;\n    }\n\n    .dataframe thead th {\n        text-align: right;\n    }\n</style>\n<table border=\"1\" class=\"dataframe\">\n  <thead>\n    <tr style=\"text-align: right;\">\n      <th></th>\n      <th>Product Name</th>\n      <th>Sub-Category</th>\n      <th>Quantity</th>\n    </tr>\n  </thead>\n  <tbody>\n    <tr>\n      <th>5</th>\n      <td>Cameo Clasp Envelope, Security-Tint</td>\n      <td>Envelopes</td>\n      <td>13</td>\n    </tr>\n    <tr>\n      <th>39</th>\n      <td>Universal Premium White Copier/Laser Paper (20Lb. and 87 Bright)</td>\n      <td>Paper</td>\n      <td>9</td>\n    </tr>\n    <tr>\n      <th>32</th>\n      <td>SanDisk Note Cards, Multicolor</td>\n      <td>Paper</td>\n      <td>9</td>\n    </tr>\n    <tr>\n      <th>36</th>\n      <td>Stockwell Clamps, 12 Pack</td>\n      <td>Fasteners</td>\n      <td>8</td>\n    </tr>\n    <tr>\n      <th>31</th>\n      <td>SAFCO Steel Folding Chair, Set of Two</td>\n      <td>Chairs</td>\n      <td>8</td>\n    </tr>\n    <tr>\n      <th>33</th>\n      <td>Sanford Pencil Sharpener, Fluorescent</td>\n      <td>Art</td>\n      <td>8</td>\n    </tr>\n    <tr>\n      <th>41</th>\n      <td>Wilson Jones Index Tab, Recycled</td>\n      <td>Binders</td>\n      <td>7</td>\n    </tr>\n    <tr>\n      <th>6</th>\n      <td>Cardinal EasyOpen D-Ring Binders</td>\n      <td>Binders</td>\n      <td>7</td>\n    </tr>\n    <tr>\n      <th>19</th>\n      <td>Hon Bag Chairs, Black</td>\n      <td>Chairs</td>\n      <td>7</td>\n    </tr>\n    <tr>\n      <th>12</th>\n      <td>Eldon Shelving, Blue</td>\n      <td>Storage</td>\n      <td>7</td>\n    </tr>\n    <tr>\n      <th>25</th>\n      <td>Motorola Office Telephone, Cordless</td>\n      <td>Phones</td>\n      <td>6</td>\n    </tr>\n    <tr>\n      <th>15</th>\n      <td>Enermax Memo Slips, Multicolor</td>\n      <td>Paper</td>\n      <td>6</td>\n    </tr>\n    <tr>\n      <th>4</th>\n      <td>Avery Round Labels, Laser Printer Compatible</td>\n      <td>Labels</td>\n      <td>6</td>\n    </tr>\n    <tr>\n      <th>1</th>\n      <td>Advantus Thumb Tacks, Bulk Pack</td>\n      <td>Fasteners</td>\n      <td>5</td>\n    </tr>\n    <tr>\n      <th>28</th>\n      <td>Recycled Steel Personal File for Hanging File Folders</td>\n      <td>Storage</td>\n      <td>5</td>\n    </tr>\n    <tr>\n      <th>0</th>\n      <td>Advantus Light Bulb, Durable</td>\n      <td>Furnishings</td>\n      <td>5</td>\n    </tr>\n    <tr>\n      <th>34</th>\n      <td>Stanley Canvas, Easy-Erase</td>\n      <td>Art</td>\n      <td>5</td>\n    </tr>\n    <tr>\n      <th>24</th>\n      <td>Logitech Keyboard, Programmable</td>\n      <td>Accessories</td>\n      <td>5</td>\n    </tr>\n    <tr>\n      <th>35</th>\n      <td>Stanley Pens, Blue</td>\n      <td>Art</td>\n      <td>5</td>\n    </tr>\n    <tr>\n      <th>2</th>\n      <td>Ames Clasp Envelope, Security-Tint</td>\n      <td>Envelopes</td>\n      <td>4</td>\n    </tr>\n    <tr>\n      <th>37</th>\n      <td>Tenex Shelving, Single Width</td>\n      <td>Storage</td>\n      <td>3</td>\n    </tr>\n    <tr>\n      <th>38</th>\n      <td>Tenex Stacking Tray, Erganomic</td>\n      <td>Furnishings</td>\n      <td>3</td>\n    </tr>\n    <tr>\n      <th>27</th>\n      <td>Office Star - Mid Back Dual function Ergonomic High Back Chair with 2-Way Adjustable Arms</td>\n      <td>Chairs</td>\n      <td>3</td>\n    </tr>\n    <tr>\n      <th>42</th>\n      <td>Xerox 1888</td>\n      <td>Paper</td>\n      <td>3</td>\n    </tr>\n    <tr>\n      <th>3</th>\n      <td>Apple Signal Booster, Cordless</td>\n      <td>Phones</td>\n      <td>3</td>\n    </tr>\n    <tr>\n      <th>8</th>\n      <td>Cuisinart Microwave, White</td>\n      <td>Appliances</td>\n      <td>3</td>\n    </tr>\n    <tr>\n      <th>16</th>\n      <td>Fellowes Shelving, Wire Frame</td>\n      <td>Storage</td>\n      <td>3</td>\n    </tr>\n    <tr>\n      <th>22</th>\n      <td>Kraft Business Envelopes, Security-Tint</td>\n      <td>Envelopes</td>\n      <td>3</td>\n    </tr>\n    <tr>\n      <th>9</th>\n      <td>Dania Corner Shelving, Pine</td>\n      <td>Bookcases</td>\n      <td>3</td>\n    </tr>\n    <tr>\n      <th>21</th>\n      <td>KitchenAid Toaster, White</td>\n      <td>Appliances</td>\n      <td>2</td>\n    </tr>\n    <tr>\n      <th>10</th>\n      <td>Dania Library with Doors, Traditional</td>\n      <td>Bookcases</td>\n      <td>2</td>\n    </tr>\n    <tr>\n      <th>40</th>\n      <td>Wilson Jones 3-Hole Punch, Durable</td>\n      <td>Binders</td>\n      <td>2</td>\n    </tr>\n    <tr>\n      <th>7</th>\n      <td>Cisco Speaker Phone, VoIP</td>\n      <td>Phones</td>\n      <td>2</td>\n    </tr>\n    <tr>\n      <th>29</th>\n      <td>Rogers Lockers, Wire Frame</td>\n      <td>Storage</td>\n      <td>2</td>\n    </tr>\n    <tr>\n      <th>17</th>\n      <td>Fiskars Scissors, Serrated</td>\n      <td>Supplies</td>\n      <td>2</td>\n    </tr>\n    <tr>\n      <th>11</th>\n      <td>Eldon Folders, Wire Frame</td>\n      <td>Storage</td>\n      <td>2</td>\n    </tr>\n    <tr>\n      <th>23</th>\n      <td>Logitech G700s Rechargeable Gaming Mouse</td>\n      <td>Accessories</td>\n      <td>1</td>\n    </tr>\n    <tr>\n      <th>13</th>\n      <td>Elite Ruler, Easy Grip</td>\n      <td>Supplies</td>\n      <td>1</td>\n    </tr>\n    <tr>\n      <th>30</th>\n      <td>Rogers Shelving, Wire Frame</td>\n      <td>Storage</td>\n      <td>1</td>\n    </tr>\n    <tr>\n      <th>18</th>\n      <td>HP Fax and Copier, Color</td>\n      <td>Copiers</td>\n      <td>1</td>\n    </tr>\n    <tr>\n      <th>20</th>\n      <td>Jiffy Business Envelopes, Recycled</td>\n      <td>Envelopes</td>\n      <td>1</td>\n    </tr>\n    <tr>\n      <th>26</th>\n      <td>OIC Push Pins, Metal</td>\n      <td>Fasteners</td>\n      <td>1</td>\n    </tr>\n    <tr>\n      <th>14</th>\n      <td>Elite Shears, Serrated</td>\n      <td>Supplies</td>\n      <td>1</td>\n    </tr>\n  </tbody>\n</table>\n</div>"
     },
     "metadata": {},
     "output_type": "display_data"
    }
   ],
   "source": [
    "# choose a test user\n",
    "test_user = df['Customer ID'].unique()[1000]\n",
    "# what products did this user buy in the past?\n",
    "past_purchases = df[df['Customer ID'] == test_user].groupby(['Product Name', 'Sub-Category']).agg({'Quantity': 'sum'}).reset_index().sort_values('Quantity', ascending=False)\n",
    "print(f\"test_user: {test_user}\")\n",
    "display(past_purchases)"
   ],
   "metadata": {
    "collapsed": false,
    "ExecuteTime": {
     "end_time": "2023-05-19T13:49:33.987315630Z",
     "start_time": "2023-05-19T13:49:33.971158348Z"
    }
   }
  },
  {
   "cell_type": "code",
   "execution_count": 133,
   "outputs": [
    {
     "name": "stdout",
     "output_type": "stream",
     "text": [
      "products_not_purchased: 3745\n"
     ]
    }
   ],
   "source": [
    "# what products did this user not buy in the past?\n",
    "# we will use this list to make recommendations\n",
    "products_not_purchased = df[~df['Product Name'].isin(past_purchases['Product Name'])]['Product Name'].unique()\n",
    "print(f\"products_not_purchased: {len(products_not_purchased)}\")"
   ],
   "metadata": {
    "collapsed": false,
    "ExecuteTime": {
     "end_time": "2023-05-19T13:49:33.987447080Z",
     "start_time": "2023-05-19T13:49:33.971458840Z"
    }
   }
  },
  {
   "cell_type": "code",
   "execution_count": 134,
   "outputs": [
    {
     "data": {
      "text/plain": "<IPython.core.display.HTML object>",
      "text/html": "\n<style>\n    /* Turns off some styling */\n    progress {\n        /* gets rid of default border in Firefox and Opera. */\n        border: none;\n        /* Needs to be in here for Safari polyfill so background images work as expected. */\n        background-size: auto;\n    }\n    progress:not([value]), progress:not([value])::-webkit-progress-bar {\n        background: repeating-linear-gradient(45deg, #7e7e7e, #7e7e7e 10px, #5c5c5c 10px, #5c5c5c 20px);\n    }\n    .progress-bar-interrupted, .progress-bar-interrupted::-webkit-progress-bar {\n        background: #F44336;\n    }\n</style>\n"
     },
     "metadata": {},
     "output_type": "display_data"
    },
    {
     "data": {
      "text/plain": "<IPython.core.display.HTML object>",
      "text/html": "\n    <div>\n      <progress value='0' class='' max='59' style='width:300px; height:20px; vertical-align: middle;'></progress>\n      \n    </div>\n    "
     },
     "metadata": {},
     "output_type": "display_data"
    },
    {
     "data": {
      "text/plain": "                                                    item  prediction\n2374  Hon Legal Exhibit Labels, Laser Printer Compatible    1.010392\n2276                        Stanley Markers, Fluorescent    1.009861\n873                    BIC Pencil Sharpener, Water Color    1.009846\n1683                      Stanley Sketch Pad, Easy-Erase    1.009610\n2768                   Stanley Highlighters, Water Color    1.009503\n999                          Binney & Smith Canvas, Blue    1.009442\n1312                     Binney & Smith Sketch Pad, Blue    1.009406\n1444               Stanley Pencil Sharpener, Water Color    1.009400\n2451                             Acco Index Tab, Economy    1.008170\n1469                                Panasonic Phone, Red    1.008140\n2704                           Cardinal Index Tab, Clear    1.007928\n3126             Wilson Jones Hole Reinforcements, Clear    1.007881\n2728                           Sanford Pens, Fluorescent    1.007811\n1152                                Sanford Canvas, Blue    1.007797\n2917                               Smead Box, Industrial    1.007617\n1400                     Rubbermaid Stacking Tray, Black    1.007363\n1850                                Tenex Shelving, Blue    1.007356\n1224                          Tenex Shelving, Industrial    1.007334\n2386                        Sanford Markers, Fluorescent    1.007161\n1553               Sanford Pencil Sharpener, Water Color    1.007008",
      "text/html": "<div>\n<style scoped>\n    .dataframe tbody tr th:only-of-type {\n        vertical-align: middle;\n    }\n\n    .dataframe tbody tr th {\n        vertical-align: top;\n    }\n\n    .dataframe thead th {\n        text-align: right;\n    }\n</style>\n<table border=\"1\" class=\"dataframe\">\n  <thead>\n    <tr style=\"text-align: right;\">\n      <th></th>\n      <th>item</th>\n      <th>prediction</th>\n    </tr>\n  </thead>\n  <tbody>\n    <tr>\n      <th>2374</th>\n      <td>Hon Legal Exhibit Labels, Laser Printer Compatible</td>\n      <td>1.010392</td>\n    </tr>\n    <tr>\n      <th>2276</th>\n      <td>Stanley Markers, Fluorescent</td>\n      <td>1.009861</td>\n    </tr>\n    <tr>\n      <th>873</th>\n      <td>BIC Pencil Sharpener, Water Color</td>\n      <td>1.009846</td>\n    </tr>\n    <tr>\n      <th>1683</th>\n      <td>Stanley Sketch Pad, Easy-Erase</td>\n      <td>1.009610</td>\n    </tr>\n    <tr>\n      <th>2768</th>\n      <td>Stanley Highlighters, Water Color</td>\n      <td>1.009503</td>\n    </tr>\n    <tr>\n      <th>999</th>\n      <td>Binney &amp; Smith Canvas, Blue</td>\n      <td>1.009442</td>\n    </tr>\n    <tr>\n      <th>1312</th>\n      <td>Binney &amp; Smith Sketch Pad, Blue</td>\n      <td>1.009406</td>\n    </tr>\n    <tr>\n      <th>1444</th>\n      <td>Stanley Pencil Sharpener, Water Color</td>\n      <td>1.009400</td>\n    </tr>\n    <tr>\n      <th>2451</th>\n      <td>Acco Index Tab, Economy</td>\n      <td>1.008170</td>\n    </tr>\n    <tr>\n      <th>1469</th>\n      <td>Panasonic Phone, Red</td>\n      <td>1.008140</td>\n    </tr>\n    <tr>\n      <th>2704</th>\n      <td>Cardinal Index Tab, Clear</td>\n      <td>1.007928</td>\n    </tr>\n    <tr>\n      <th>3126</th>\n      <td>Wilson Jones Hole Reinforcements, Clear</td>\n      <td>1.007881</td>\n    </tr>\n    <tr>\n      <th>2728</th>\n      <td>Sanford Pens, Fluorescent</td>\n      <td>1.007811</td>\n    </tr>\n    <tr>\n      <th>1152</th>\n      <td>Sanford Canvas, Blue</td>\n      <td>1.007797</td>\n    </tr>\n    <tr>\n      <th>2917</th>\n      <td>Smead Box, Industrial</td>\n      <td>1.007617</td>\n    </tr>\n    <tr>\n      <th>1400</th>\n      <td>Rubbermaid Stacking Tray, Black</td>\n      <td>1.007363</td>\n    </tr>\n    <tr>\n      <th>1850</th>\n      <td>Tenex Shelving, Blue</td>\n      <td>1.007356</td>\n    </tr>\n    <tr>\n      <th>1224</th>\n      <td>Tenex Shelving, Industrial</td>\n      <td>1.007334</td>\n    </tr>\n    <tr>\n      <th>2386</th>\n      <td>Sanford Markers, Fluorescent</td>\n      <td>1.007161</td>\n    </tr>\n    <tr>\n      <th>1553</th>\n      <td>Sanford Pencil Sharpener, Water Color</td>\n      <td>1.007008</td>\n    </tr>\n  </tbody>\n</table>\n</div>"
     },
     "metadata": {},
     "output_type": "display_data"
    }
   ],
   "source": [
    "test_df = pd.DataFrame({\n",
    "    'user': [test_user] * len(products_not_purchased),\n",
    "    'item': products_not_purchased\n",
    "})\n",
    "\n",
    "dl = learn.dls.test_dl(test_df)\n",
    "preds = learn.get_preds(dl=dl)\n",
    "\n",
    "# merge predictions with product names\n",
    "preds_df = pd.DataFrame({\n",
    "    'item': products_not_purchased,\n",
    "    'prediction': preds[0].numpy().flatten()\n",
    "}).sort_values('prediction', ascending=False)\n",
    "display(preds_df[:20])"
   ],
   "metadata": {
    "collapsed": false,
    "ExecuteTime": {
     "end_time": "2023-05-19T13:49:34.073699274Z",
     "start_time": "2023-05-19T13:49:33.971564091Z"
    }
   }
  },
  {
   "cell_type": "code",
   "execution_count": 135,
   "outputs": [],
   "source": [
    "# predict for user 1000\n",
    "# this will return a list of predictions for each product\n",
    "# the predictions are the ratings for each product\n",
    "# the higher the rating, the more likely the user will like the product\n",
    "\n",
    "# we will use this list to make recommendations\n"
   ],
   "metadata": {
    "collapsed": false,
    "ExecuteTime": {
     "end_time": "2023-05-19T13:49:34.073831115Z",
     "start_time": "2023-05-19T13:49:34.071248695Z"
    }
   }
  },
  {
   "cell_type": "code",
   "execution_count": 135,
   "outputs": [],
   "source": [],
   "metadata": {
    "collapsed": false,
    "ExecuteTime": {
     "end_time": "2023-05-19T13:49:34.134353218Z",
     "start_time": "2023-05-19T13:49:34.118972326Z"
    }
   }
  }
 ],
 "metadata": {
  "kernelspec": {
   "display_name": "Python 3",
   "language": "python",
   "name": "python3"
  },
  "language_info": {
   "codemirror_mode": {
    "name": "ipython",
    "version": 2
   },
   "file_extension": ".py",
   "mimetype": "text/x-python",
   "name": "python",
   "nbconvert_exporter": "python",
   "pygments_lexer": "ipython2",
   "version": "2.7.6"
  }
 },
 "nbformat": 4,
 "nbformat_minor": 0
}
