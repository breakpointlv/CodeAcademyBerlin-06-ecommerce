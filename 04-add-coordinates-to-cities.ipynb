{
 "cells": [
  {
   "cell_type": "markdown",
   "source": [
    "Since there is a limit of 1000 requests per hour, we will use a SQLite database to store the results of the geocoding.\n",
    "And we need to run this script until there are no null values in the lat and lng columns."
   ],
   "metadata": {
    "collapsed": false
   }
  },
  {
   "cell_type": "code",
   "execution_count": 15,
   "outputs": [],
   "source": [
    "import sqlite3\n",
    "import pandas as pd"
   ],
   "metadata": {
    "collapsed": false,
    "ExecuteTime": {
     "end_time": "2023-05-17T10:06:26.268679344Z",
     "start_time": "2023-05-17T10:06:26.257000109Z"
    }
   }
  },
  {
   "cell_type": "code",
   "execution_count": 16,
   "outputs": [],
   "source": [
    "db_file_name = \"db/sample-superstore.sqlite\"\n",
    "con = sqlite3.connect(db_file_name)\n",
    "cur = con.cursor()"
   ],
   "metadata": {
    "collapsed": false,
    "ExecuteTime": {
     "end_time": "2023-05-17T10:06:26.303330020Z",
     "start_time": "2023-05-17T10:06:26.302931777Z"
    }
   }
  },
  {
   "cell_type": "code",
   "execution_count": 17,
   "outputs": [],
   "source": [
    "def q(sql, cur, convert_to_df=True):\n",
    "    cur.execute(sql)\n",
    "    r = cur.fetchall()\n",
    "    if convert_to_df:\n",
    "        r.insert(0, next(zip(*cur.description)))\n",
    "        #display(tabulate.tabulate(r, tablefmt=\"html\", headers=\"firstrow\"))\n",
    "        return pd.DataFrame(r[1:], columns=r[0])\n",
    "    else:\n",
    "        return r"
   ],
   "metadata": {
    "collapsed": false,
    "ExecuteTime": {
     "end_time": "2023-05-17T10:06:26.304363931Z",
     "start_time": "2023-05-17T10:06:26.303704818Z"
    }
   }
  },
  {
   "cell_type": "code",
   "execution_count": 18,
   "outputs": [
    {
     "data": {
      "text/plain": "   COUNT(*)\n0      3636",
      "text/html": "<div>\n<style scoped>\n    .dataframe tbody tr th:only-of-type {\n        vertical-align: middle;\n    }\n\n    .dataframe tbody tr th {\n        vertical-align: top;\n    }\n\n    .dataframe thead th {\n        text-align: right;\n    }\n</style>\n<table border=\"1\" class=\"dataframe\">\n  <thead>\n    <tr style=\"text-align: right;\">\n      <th></th>\n      <th>COUNT(*)</th>\n    </tr>\n  </thead>\n  <tbody>\n    <tr>\n      <th>0</th>\n      <td>3636</td>\n    </tr>\n  </tbody>\n</table>\n</div>"
     },
     "execution_count": 18,
     "metadata": {},
     "output_type": "execute_result"
    }
   ],
   "source": [
    "sql = \"\"\"SELECT COUNT(*) FROM cities\"\"\"\n",
    "q(sql, cur)"
   ],
   "metadata": {
    "collapsed": false,
    "ExecuteTime": {
     "end_time": "2023-05-17T10:06:26.304705616Z",
     "start_time": "2023-05-17T10:06:26.303902006Z"
    }
   }
  },
  {
   "cell_type": "code",
   "execution_count": 19,
   "outputs": [
    {
     "data": {
      "text/plain": "[('Abidjan', \"Cote d'Ivoire\", 12, None, None),\n ('Bouake', \"Cote d'Ivoire\", 465, None, None),\n ('Daloa', \"Cote d'Ivoire\", 861, None, None),\n ('Gagnoa', \"Cote d'Ivoire\", 1137, None, None),\n ('Korhogo', \"Cote d'Ivoire\", 1695, None, None),\n ('Man', \"Cote d'Ivoire\", 1987, None, None),\n ('Yamoussoukro', \"Cote d'Ivoire\", 3557, None, None)]"
     },
     "metadata": {},
     "output_type": "display_data"
    }
   ],
   "source": [
    "sql = \"\"\"SELECT\n",
    "    cities.name AS city_name,\n",
    "    countries.name AS country_name,\n",
    "    cities.id AS city_id,\n",
    "    cities.lat AS lat,\n",
    "    cities.lng AS lng\n",
    "    FROM cities\n",
    "    INNER JOIN countries ON cities.country_id = countries.id\n",
    " WHERE lng IS NULL AND lat IS NULL\n",
    " LIMIT 1000\"\"\"\n",
    "r = q(sql, cur, convert_to_df=False)\n",
    "display(r)"
   ],
   "metadata": {
    "collapsed": false,
    "ExecuteTime": {
     "end_time": "2023-05-17T10:06:26.305047140Z",
     "start_time": "2023-05-17T10:06:26.304060810Z"
    }
   }
  },
  {
   "cell_type": "code",
   "execution_count": 20,
   "outputs": [],
   "source": [
    "from geopy import geocoders\n",
    "gn = geocoders.GeoNames(username='temnovit')"
   ],
   "metadata": {
    "collapsed": false,
    "ExecuteTime": {
     "end_time": "2023-05-17T10:06:26.305181978Z",
     "start_time": "2023-05-17T10:06:26.304219154Z"
    }
   }
  },
  {
   "cell_type": "code",
   "execution_count": 21,
   "outputs": [
    {
     "name": "stdout",
     "output_type": "stream",
     "text": [
      "1. Abidjan, Cote d'Ivoire -> NO DATA\n",
      "2. Bouake, Cote d'Ivoire -> NO DATA\n",
      "3. Daloa, Cote d'Ivoire -> NO DATA\n",
      "4. Gagnoa, Cote d'Ivoire -> NO DATA\n",
      "5. Korhogo, Cote d'Ivoire -> NO DATA\n",
      "6. Man, Cote d'Ivoire -> NO DATA\n",
      "7. Yamoussoukro, Cote d'Ivoire -> NO DATA\n"
     ]
    }
   ],
   "source": [
    "i = 1\n",
    "for row in r:\n",
    "    city_country = row[0] + \", \" + row[1]\n",
    "    geo = gn.geocode(city_country)\n",
    "    if geo:\n",
    "        print(f\"{i}. {city_country} -> {geo.latitude}, {geo.longitude}\")\n",
    "        sql = \"\"\"UPDATE cities SET lat = ?, lng = ? WHERE id = ?\"\"\"\n",
    "        cur.execute(\n",
    "            sql,\n",
    "            (\n",
    "                geo.latitude,\n",
    "                geo.longitude,\n",
    "                row[2]\n",
    "            )\n",
    "        )\n",
    "    else:\n",
    "        print(f\"{i}. {city_country} -> NO DATA\")\n",
    "    i += 1\n",
    "con.commit()"
   ],
   "metadata": {
    "collapsed": false,
    "ExecuteTime": {
     "end_time": "2023-05-17T10:06:26.682201270Z",
     "start_time": "2023-05-17T10:06:26.304915438Z"
    }
   }
  },
  {
   "cell_type": "code",
   "execution_count": 21,
   "outputs": [],
   "source": [],
   "metadata": {
    "collapsed": false,
    "ExecuteTime": {
     "end_time": "2023-05-17T10:06:26.726921597Z",
     "start_time": "2023-05-17T10:06:26.683140800Z"
    }
   }
  }
 ],
 "metadata": {
  "kernelspec": {
   "display_name": "Python 3",
   "language": "python",
   "name": "python3"
  },
  "language_info": {
   "codemirror_mode": {
    "name": "ipython",
    "version": 2
   },
   "file_extension": ".py",
   "mimetype": "text/x-python",
   "name": "python",
   "nbconvert_exporter": "python",
   "pygments_lexer": "ipython2",
   "version": "2.7.6"
  }
 },
 "nbformat": 4,
 "nbformat_minor": 0
}
