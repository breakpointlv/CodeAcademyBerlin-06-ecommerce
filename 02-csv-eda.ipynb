{
 "cells": [
  {
   "cell_type": "code",
   "execution_count": 4,
   "metadata": {
    "collapsed": true,
    "ExecuteTime": {
     "end_time": "2023-05-08T11:31:35.490486524Z",
     "start_time": "2023-05-08T11:31:35.101251781Z"
    }
   },
   "outputs": [],
   "source": [
    "import sqlite3\n",
    "import os\n",
    "import pandas as pd"
   ]
  },
  {
   "cell_type": "markdown",
   "source": [
    "# Import CSV files as pandas dataframes"
   ],
   "metadata": {
    "collapsed": false
   }
  },
  {
   "cell_type": "code",
   "execution_count": 6,
   "outputs": [],
   "source": [
    "df_orders = pd.read_csv(\"db/global-superstore-orders.csv\")\n",
    "df_returns = pd.read_csv(\"db/global-superstore-returns.csv\")"
   ],
   "metadata": {
    "collapsed": false,
    "ExecuteTime": {
     "end_time": "2023-05-08T11:31:48.142757478Z",
     "start_time": "2023-05-08T11:31:48.005898842Z"
    }
   }
  },
  {
   "cell_type": "code",
   "execution_count": 7,
   "outputs": [
    {
     "data": {
      "text/plain": "            Row ID   Postal Code         Sales      Quantity      Discount  \\\ncount  51290.00000   9994.000000  51290.000000  51290.000000  51290.000000   \nmean   25645.50000  55190.379428    246.490581      3.476545      0.142908   \nstd    14806.29199  32063.693350    487.565361      2.278766      0.212280   \nmin        1.00000   1040.000000      0.444000      1.000000      0.000000   \n25%    12823.25000  23223.000000     30.758625      2.000000      0.000000   \n50%    25645.50000  56430.500000     85.053000      3.000000      0.000000   \n75%    38467.75000  90008.000000    251.053200      5.000000      0.200000   \nmax    51290.00000  99301.000000  22638.480000     14.000000      0.850000   \n\n             Profit  Shipping Cost  \ncount  51290.000000   51290.000000  \nmean      28.610982      26.375915  \nstd      174.340972      57.296804  \nmin    -6599.978000       0.000000  \n25%        0.000000       2.610000  \n50%        9.240000       7.790000  \n75%       36.810000      24.450000  \nmax     8399.976000     933.570000  ",
      "text/html": "<div>\n<style scoped>\n    .dataframe tbody tr th:only-of-type {\n        vertical-align: middle;\n    }\n\n    .dataframe tbody tr th {\n        vertical-align: top;\n    }\n\n    .dataframe thead th {\n        text-align: right;\n    }\n</style>\n<table border=\"1\" class=\"dataframe\">\n  <thead>\n    <tr style=\"text-align: right;\">\n      <th></th>\n      <th>Row ID</th>\n      <th>Postal Code</th>\n      <th>Sales</th>\n      <th>Quantity</th>\n      <th>Discount</th>\n      <th>Profit</th>\n      <th>Shipping Cost</th>\n    </tr>\n  </thead>\n  <tbody>\n    <tr>\n      <th>count</th>\n      <td>51290.00000</td>\n      <td>9994.000000</td>\n      <td>51290.000000</td>\n      <td>51290.000000</td>\n      <td>51290.000000</td>\n      <td>51290.000000</td>\n      <td>51290.000000</td>\n    </tr>\n    <tr>\n      <th>mean</th>\n      <td>25645.50000</td>\n      <td>55190.379428</td>\n      <td>246.490581</td>\n      <td>3.476545</td>\n      <td>0.142908</td>\n      <td>28.610982</td>\n      <td>26.375915</td>\n    </tr>\n    <tr>\n      <th>std</th>\n      <td>14806.29199</td>\n      <td>32063.693350</td>\n      <td>487.565361</td>\n      <td>2.278766</td>\n      <td>0.212280</td>\n      <td>174.340972</td>\n      <td>57.296804</td>\n    </tr>\n    <tr>\n      <th>min</th>\n      <td>1.00000</td>\n      <td>1040.000000</td>\n      <td>0.444000</td>\n      <td>1.000000</td>\n      <td>0.000000</td>\n      <td>-6599.978000</td>\n      <td>0.000000</td>\n    </tr>\n    <tr>\n      <th>25%</th>\n      <td>12823.25000</td>\n      <td>23223.000000</td>\n      <td>30.758625</td>\n      <td>2.000000</td>\n      <td>0.000000</td>\n      <td>0.000000</td>\n      <td>2.610000</td>\n    </tr>\n    <tr>\n      <th>50%</th>\n      <td>25645.50000</td>\n      <td>56430.500000</td>\n      <td>85.053000</td>\n      <td>3.000000</td>\n      <td>0.000000</td>\n      <td>9.240000</td>\n      <td>7.790000</td>\n    </tr>\n    <tr>\n      <th>75%</th>\n      <td>38467.75000</td>\n      <td>90008.000000</td>\n      <td>251.053200</td>\n      <td>5.000000</td>\n      <td>0.200000</td>\n      <td>36.810000</td>\n      <td>24.450000</td>\n    </tr>\n    <tr>\n      <th>max</th>\n      <td>51290.00000</td>\n      <td>99301.000000</td>\n      <td>22638.480000</td>\n      <td>14.000000</td>\n      <td>0.850000</td>\n      <td>8399.976000</td>\n      <td>933.570000</td>\n    </tr>\n  </tbody>\n</table>\n</div>"
     },
     "execution_count": 7,
     "metadata": {},
     "output_type": "execute_result"
    }
   ],
   "source": [
    "df_orders.describe()"
   ],
   "metadata": {
    "collapsed": false,
    "ExecuteTime": {
     "end_time": "2023-05-08T11:31:55.383553710Z",
     "start_time": "2023-05-08T11:31:55.309488883Z"
    }
   }
  },
  {
   "cell_type": "code",
   "execution_count": 8,
   "outputs": [
    {
     "name": "stdout",
     "output_type": "stream",
     "text": [
      "<class 'pandas.core.frame.DataFrame'>\n",
      "RangeIndex: 51290 entries, 0 to 51289\n",
      "Data columns (total 24 columns):\n",
      " #   Column          Non-Null Count  Dtype  \n",
      "---  ------          --------------  -----  \n",
      " 0   Row ID          51290 non-null  int64  \n",
      " 1   Order ID        51290 non-null  object \n",
      " 2   Order Date      51290 non-null  object \n",
      " 3   Ship Date       51290 non-null  object \n",
      " 4   Ship Mode       51290 non-null  object \n",
      " 5   Customer ID     51290 non-null  object \n",
      " 6   Customer Name   51290 non-null  object \n",
      " 7   Segment         51290 non-null  object \n",
      " 8   City            51290 non-null  object \n",
      " 9   State           51290 non-null  object \n",
      " 10  Country         51290 non-null  object \n",
      " 11  Postal Code     9994 non-null   float64\n",
      " 12  Market          51290 non-null  object \n",
      " 13  Region          51290 non-null  object \n",
      " 14  Product ID      51290 non-null  object \n",
      " 15  Category        51290 non-null  object \n",
      " 16  Sub-Category    51290 non-null  object \n",
      " 17  Product Name    51290 non-null  object \n",
      " 18  Sales           51290 non-null  float64\n",
      " 19  Quantity        51290 non-null  int64  \n",
      " 20  Discount        51290 non-null  float64\n",
      " 21  Profit          51290 non-null  float64\n",
      " 22  Shipping Cost   51290 non-null  float64\n",
      " 23  Order Priority  51290 non-null  object \n",
      "dtypes: float64(5), int64(2), object(17)\n",
      "memory usage: 9.4+ MB\n"
     ]
    }
   ],
   "source": [
    "# show main information about dataframe\n",
    "df_orders.info()\n"
   ],
   "metadata": {
    "collapsed": false,
    "ExecuteTime": {
     "end_time": "2023-05-08T11:32:59.465467583Z",
     "start_time": "2023-05-08T11:32:59.397227488Z"
    }
   }
  },
  {
   "cell_type": "markdown",
   "source": [
    "# Value counts of categorical columns"
   ],
   "metadata": {
    "collapsed": false
   }
  },
  {
   "cell_type": "code",
   "execution_count": 10,
   "outputs": [
    {
     "data": {
      "text/plain": "Standard Class    30775\nSecond Class      10309\nFirst Class        7505\nSame Day           2701\nName: Ship Mode, dtype: int64"
     },
     "execution_count": 10,
     "metadata": {},
     "output_type": "execute_result"
    }
   ],
   "source": [
    "df_orders['Ship Mode'].value_counts()"
   ],
   "metadata": {
    "collapsed": false,
    "ExecuteTime": {
     "end_time": "2023-05-08T11:35:22.118471172Z",
     "start_time": "2023-05-08T11:35:22.117356257Z"
    }
   }
  },
  {
   "cell_type": "code",
   "execution_count": 11,
   "outputs": [
    {
     "data": {
      "text/plain": "Consumer       26518\nCorporate      15429\nHome Office     9343\nName: Segment, dtype: int64"
     },
     "execution_count": 11,
     "metadata": {},
     "output_type": "execute_result"
    }
   ],
   "source": [
    "df_orders['Segment'].value_counts()"
   ],
   "metadata": {
    "collapsed": false,
    "ExecuteTime": {
     "end_time": "2023-05-08T11:35:47.623459392Z",
     "start_time": "2023-05-08T11:35:47.618445877Z"
    }
   }
  },
  {
   "cell_type": "code",
   "execution_count": 12,
   "outputs": [
    {
     "data": {
      "text/plain": "United States    9994\nAustralia        2837\nFrance           2827\nMexico           2644\nGermany          2065\n                 ... \nBahrain             2\nSouth Sudan         2\nChad                2\nBurundi             2\nEritrea             2\nName: Country, Length: 147, dtype: int64"
     },
     "execution_count": 12,
     "metadata": {},
     "output_type": "execute_result"
    }
   ],
   "source": [
    "df_orders['Country'].value_counts()"
   ],
   "metadata": {
    "collapsed": false,
    "ExecuteTime": {
     "end_time": "2023-05-08T11:35:58.069799747Z",
     "start_time": "2023-05-08T11:35:58.024669517Z"
    }
   }
  },
  {
   "cell_type": "code",
   "execution_count": 13,
   "outputs": [
    {
     "data": {
      "text/plain": "APAC      11002\nLATAM     10294\nEU        10000\nUS         9994\nEMEA       5029\nAfrica     4587\nCanada      384\nName: Market, dtype: int64"
     },
     "execution_count": 13,
     "metadata": {},
     "output_type": "execute_result"
    }
   ],
   "source": [
    "df_orders['Market'].value_counts()"
   ],
   "metadata": {
    "collapsed": false,
    "ExecuteTime": {
     "end_time": "2023-05-08T11:36:23.896778536Z",
     "start_time": "2023-05-08T11:36:23.850934072Z"
    }
   }
  },
  {
   "cell_type": "code",
   "execution_count": 14,
   "outputs": [
    {
     "data": {
      "text/plain": "Central           11117\nSouth              6645\nEMEA               5029\nNorth              4785\nAfrica             4587\nOceania            3487\nWest               3203\nSoutheast Asia     3129\nEast               2848\nNorth Asia         2338\nCentral Asia       2048\nCaribbean          1690\nCanada              384\nName: Region, dtype: int64"
     },
     "execution_count": 14,
     "metadata": {},
     "output_type": "execute_result"
    }
   ],
   "source": [
    "df_orders['Region'].value_counts()"
   ],
   "metadata": {
    "collapsed": false,
    "ExecuteTime": {
     "end_time": "2023-05-08T11:36:48.802013511Z",
     "start_time": "2023-05-08T11:36:48.774628733Z"
    }
   }
  },
  {
   "cell_type": "code",
   "execution_count": 15,
   "outputs": [
    {
     "data": {
      "text/plain": "Office Supplies    31273\nTechnology         10141\nFurniture           9876\nName: Category, dtype: int64"
     },
     "execution_count": 15,
     "metadata": {},
     "output_type": "execute_result"
    }
   ],
   "source": [
    "df_orders['Category'].value_counts()"
   ],
   "metadata": {
    "collapsed": false,
    "ExecuteTime": {
     "end_time": "2023-05-08T11:36:52.896868237Z",
     "start_time": "2023-05-08T11:36:52.891880909Z"
    }
   }
  },
  {
   "cell_type": "code",
   "execution_count": 16,
   "outputs": [
    {
     "data": {
      "text/plain": "Binders        6152\nStorage        5059\nArt            4883\nPaper          3538\nChairs         3434\nPhones         3357\nFurnishings    3170\nAccessories    3075\nLabels         2606\nEnvelopes      2435\nSupplies       2425\nFasteners      2420\nBookcases      2411\nCopiers        2223\nAppliances     1755\nMachines       1486\nTables          861\nName: Sub-Category, dtype: int64"
     },
     "execution_count": 16,
     "metadata": {},
     "output_type": "execute_result"
    }
   ],
   "source": [
    "df_orders['Sub-Category'].value_counts()"
   ],
   "metadata": {
    "collapsed": false,
    "ExecuteTime": {
     "end_time": "2023-05-08T11:36:58.109183326Z",
     "start_time": "2023-05-08T11:36:58.062671666Z"
    }
   }
  },
  {
   "cell_type": "code",
   "execution_count": 17,
   "outputs": [
    {
     "data": {
      "text/plain": "Medium      29433\nHigh        15501\nCritical     3932\nLow          2424\nName: Order Priority, dtype: int64"
     },
     "execution_count": 17,
     "metadata": {},
     "output_type": "execute_result"
    }
   ],
   "source": [
    "df_orders['Order Priority'].value_counts()"
   ],
   "metadata": {
    "collapsed": false,
    "ExecuteTime": {
     "end_time": "2023-05-08T11:37:16.701399167Z",
     "start_time": "2023-05-08T11:37:16.693097277Z"
    }
   }
  },
  {
   "cell_type": "code",
   "execution_count": 20,
   "outputs": [
    {
     "ename": "AttributeError",
     "evalue": "'function' object has no attribute 'sum'",
     "output_type": "error",
     "traceback": [
      "\u001B[0;31m---------------------------------------------------------------------------\u001B[0m",
      "\u001B[0;31mAttributeError\u001B[0m                            Traceback (most recent call last)",
      "Cell \u001B[0;32mIn[20], line 1\u001B[0m\n\u001B[0;32m----> 1\u001B[0m \u001B[43mdf_orders\u001B[49m\u001B[38;5;241;43m.\u001B[39;49m\u001B[43misnull\u001B[49m\u001B[38;5;241;43m.\u001B[39;49m\u001B[43msum\u001B[49m()\n",
      "\u001B[0;31mAttributeError\u001B[0m: 'function' object has no attribute 'sum'"
     ]
    }
   ],
   "source": [
    "df_orders.isnull().sum()"
   ],
   "metadata": {
    "collapsed": false,
    "ExecuteTime": {
     "end_time": "2023-05-08T11:40:29.240777005Z",
     "start_time": "2023-05-08T11:40:29.197325886Z"
    }
   }
  },
  {
   "cell_type": "code",
   "execution_count": null,
   "outputs": [],
   "source": [],
   "metadata": {
    "collapsed": false
   }
  }
 ],
 "metadata": {
  "kernelspec": {
   "display_name": "Python 3",
   "language": "python",
   "name": "python3"
  },
  "language_info": {
   "codemirror_mode": {
    "name": "ipython",
    "version": 2
   },
   "file_extension": ".py",
   "mimetype": "text/x-python",
   "name": "python",
   "nbconvert_exporter": "python",
   "pygments_lexer": "ipython2",
   "version": "2.7.6"
  }
 },
 "nbformat": 4,
 "nbformat_minor": 0
}
