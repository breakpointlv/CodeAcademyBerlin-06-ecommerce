{
 "cells": [
  {
   "cell_type": "code",
   "execution_count": 6,
   "metadata": {
    "collapsed": true,
    "ExecuteTime": {
     "end_time": "2023-05-11T07:58:31.608908186Z",
     "start_time": "2023-05-11T07:58:31.567437420Z"
    }
   },
   "outputs": [],
   "source": [
    "import sqlite3\n",
    "import os"
   ]
  },
  {
   "cell_type": "code",
   "execution_count": 7,
   "outputs": [],
   "source": [
    "db_file_name = \"db/sample-superstore.sqlite\"\n",
    "\n",
    "if os.path.exists(db_file_name):\n",
    "  os.remove(db_file_name)\n",
    "\n",
    "con = sqlite3.connect(db_file_name)\n",
    "cur = con.cursor()"
   ],
   "metadata": {
    "collapsed": false,
    "ExecuteTime": {
     "end_time": "2023-05-11T07:58:31.609533441Z",
     "start_time": "2023-05-11T07:58:31.608580999Z"
    }
   }
  },
  {
   "cell_type": "code",
   "execution_count": 8,
   "outputs": [],
   "source": [
    "cur.executescript(\"\"\"\n",
    "\n",
    "----------------- LOCATION ------------------\n",
    "\n",
    "CREATE TABLE countries (\n",
    "  id INTEGER PRIMARY KEY,\n",
    "  name VARCHAR(255) NOT NULL\n",
    ");\n",
    "\n",
    "CREATE TABLE states (\n",
    "  id INTEGER PRIMARY KEY,\n",
    "  country_id INTEGER NOT NULL,\n",
    "  name VARCHAR(255) NOT NULL,\n",
    "\n",
    "  FOREIGN KEY (country_id) REFERENCES countries(id)\n",
    ");\n",
    "\n",
    "CREATE TABLE regions (\n",
    "  id INTEGER PRIMARY KEY,\n",
    "  country_id INTEGER,\n",
    "  name VARCHAR(255) NOT NULL,\n",
    "\n",
    "  FOREIGN KEY (country_id) REFERENCES countries(id)\n",
    ");\n",
    "\n",
    "CREATE TABLE cities (\n",
    "  id INTEGER PRIMARY KEY,\n",
    "  country_id INTEGER,\n",
    "  state_id INTEGER,\n",
    "  region_id INTEGER,\n",
    "  name VARCHAR(255) NOT NULL,\n",
    "\n",
    "  FOREIGN KEY (country_id) REFERENCES countries(id),\n",
    "  FOREIGN KEY (state_id) REFERENCES states(id),\n",
    "  FOREIGN KEY (region_id) REFERENCES regions(id)\n",
    ");\n",
    "\n",
    "CREATE TABLE markets (\n",
    "  id INTEGER PRIMARY KEY,\n",
    "  name VARCHAR(255) NOT NULL\n",
    ");\n",
    "\n",
    "----------------- CUSTOMERS ------------------\n",
    "\n",
    "CREATE TABLE customers (\n",
    "  id VARCHAR(10) PRIMARY KEY,\n",
    "  name VARCHAR(255) NOT NULL,\n",
    "  segment VARCHAR(255) NOT NULL,\n",
    "  city_id INTEGER,\n",
    "  market_id INTEGER,\n",
    "  zip_code VARCHAR(255),\n",
    "\n",
    "  FOREIGN KEY (city_id) REFERENCES cities(id),\n",
    "  FOREIGN KEY (market_id) REFERENCES markets(id)\n",
    ");\n",
    "\n",
    "----------------- PRODUCTS ------------------\n",
    "\n",
    "CREATE TABLE product_categories (\n",
    "  id INTEGER PRIMARY KEY,\n",
    "  name VARCHAR(255) NOT NULL\n",
    ");\n",
    "\n",
    "CREATE TABLE product_subcategories (\n",
    "  id INTEGER PRIMARY KEY,\n",
    "  category_id INTEGER NOT NULL,\n",
    "  name VARCHAR(255) NOT NULL,\n",
    "\n",
    "  FOREIGN KEY (category_id) REFERENCES product_categories(id)\n",
    ");\n",
    "\n",
    "CREATE TABLE products (\n",
    "  id VARCHAR(255) PRIMARY KEY,\n",
    "  subcategory_id INTEGER NOT NULL,\n",
    "  name VARCHAR(255) NOT NULL,\n",
    "\n",
    "  FOREIGN KEY (subcategory_id) REFERENCES product_subcategories(id)\n",
    ");\n",
    "\n",
    "----------------- ORDERS ------------------\n",
    "\n",
    "CREATE TABLE orders (\n",
    "  id VARCHAR(255) PRIMARY KEY,\n",
    "  customer_id VARCHAR(10) NOT NULL,\n",
    "\n",
    "  order_date DATE NOT NULL,\n",
    "  ship_date DATE NOT NULL,\n",
    "  ship_mode VARCHAR(255) NOT NULL,\n",
    "  priority VARCHAR(255) NOT NULL,\n",
    "\n",
    "  is_returned INTEGER DEFAULT 0,\n",
    "\n",
    "  FOREIGN KEY (customer_id) REFERENCES customers(id)\n",
    ");\n",
    "\n",
    "\n",
    "CREATE TABLE order_products (\n",
    "  id INTEGER PRIMARY KEY,\n",
    "  order_id VARCHAR(255) NOT NULL,\n",
    "  product_id VARCHAR(255) NOT NULL,\n",
    "\n",
    "  sales REAL NOT NULL,\n",
    "  quantity INTEGER NOT NULL,\n",
    "  discount REAL NOT NULL,\n",
    "  profit REAL NOT NULL,\n",
    "  shipping_cost REAL NOT NULL,\n",
    "  item_price REAL NOT NULL,\n",
    "  item_cost REAL NOT NULL,\n",
    "\n",
    "  FOREIGN KEY (product_id) REFERENCES products(id),\n",
    "  FOREIGN KEY (order_id) REFERENCES orders(id)\n",
    ");\n",
    "\"\"\")\n",
    "con.commit()"
   ],
   "metadata": {
    "collapsed": false,
    "ExecuteTime": {
     "end_time": "2023-05-11T07:58:31.609929426Z",
     "start_time": "2023-05-11T07:58:31.609364402Z"
    }
   }
  },
  {
   "cell_type": "code",
   "execution_count": 9,
   "outputs": [],
   "source": [
    "cur.close()\n",
    "con.close()"
   ],
   "metadata": {
    "collapsed": false,
    "ExecuteTime": {
     "end_time": "2023-05-11T07:58:31.610186763Z",
     "start_time": "2023-05-11T07:58:31.609769715Z"
    }
   }
  }
 ],
 "metadata": {
  "kernelspec": {
   "display_name": "Python 3",
   "language": "python",
   "name": "python3"
  },
  "language_info": {
   "codemirror_mode": {
    "name": "ipython",
    "version": 2
   },
   "file_extension": ".py",
   "mimetype": "text/x-python",
   "name": "python",
   "nbconvert_exporter": "python",
   "pygments_lexer": "ipython2",
   "version": "2.7.6"
  }
 },
 "nbformat": 4,
 "nbformat_minor": 0
}
